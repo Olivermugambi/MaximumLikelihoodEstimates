{
  "nbformat": 4,
  "nbformat_minor": 0,
  "metadata": {
    "colab": {
      "provenance": [],
      "collapsed_sections": [],
      "authorship_tag": "ABX9TyNQ82nFormTOhjZTbOIjmap",
      "include_colab_link": true
    },
    "kernelspec": {
      "name": "python3",
      "display_name": "Python 3"
    },
    "language_info": {
      "name": "python"
    }
  },
  "cells": [
    {
      "cell_type": "markdown",
      "metadata": {
        "id": "view-in-github",
        "colab_type": "text"
      },
      "source": [
        "<a href=\"https://colab.research.google.com/github/Olivermugambi/MaximumLikelihoodEstimates/blob/main/MLEs.ipynb\" target=\"_parent\"><img src=\"https://colab.research.google.com/assets/colab-badge.svg\" alt=\"Open In Colab\"/></a>"
      ]
    },
    {
      "cell_type": "markdown",
      "source": [
        "#Calculating Maximum Likelihood Estimates (MLE)"
      ],
      "metadata": {
        "id": "7T7dzi3ah4lz"
      }
    },
    {
      "cell_type": "markdown",
      "source": [
        "This notebook is a session following the tutorial by Jonny Brooks-Bartlett (https://towardsdatascience.com/probability-concepts-explained-maximum-likelihood-estimation-c7b4342fdbb1#:~:text=Maximum%20likelihood%20estimation%20is%20a,data%20that%20were%20actually%20observed.)"
      ],
      "metadata": {
        "id": "jWkua6PRh8Ub"
      }
    },
    {
      "cell_type": "markdown",
      "source": [
        "Suppose we have three data points this time and we assume that they have been generated from a process that is adequately described by a Gaussian distribution. These points are 9, 9.5 and 11. How do we calculate the maximum likelihood estimates of the parameter values of the Gaussian distribution μ and σ?"
      ],
      "metadata": {
        "id": "XEFcms4diKhS"
      }
    },
    {
      "cell_type": "markdown",
      "source": [
        "What we want to calculate is the total probability of observing all of the data, i.e. the joint probability distribution of all observed data points."
      ],
      "metadata": {
        "id": "Dou_naGCj4CN"
      }
    },
    {
      "cell_type": "markdown",
      "source": [
        "Would require calculating all conditional probabilities for datapointd"
      ],
      "metadata": {
        "id": "Q1AjkjgekDRs"
      }
    },
    {
      "cell_type": "markdown",
      "source": [
        "We make assumption to avoid this. The assumption: All data points generated independently of each other"
      ],
      "metadata": {
        "id": "lbEkro13kIh7"
      }
    },
    {
      "cell_type": "markdown",
      "source": [
        "Gaussian distribution formula:\n",
        "p(x; μ, σ) = (1/(σ(sqrt(2*pi))))*exp((-(x-μ)^2)/2σ^2)"
      ],
      "metadata": {
        "id": "9rGAjSUbkts7"
      }
    },
    {
      "cell_type": "markdown",
      "source": [
        "p(9, 9.5, 11; μ, σ) = (1/(σ(sqrt(2pi))))exp((-(9-μ)^2)/2σ^2) * (1/(σ(sqrt(2pi))))exp((-(9.5-μ)^2)/2σ^2) * (1/(σ(sqrt(2pi))))exp((-(11-μ)^2)/2σ^2)\n",
        "\n"
      ],
      "metadata": {
        "id": "l35vOOIemLEI"
      }
    },
    {
      "cell_type": "markdown",
      "source": [
        "We just have to figure out the values of μ and σ that results in giving the maximum value of the above expression."
      ],
      "metadata": {
        "id": "R2JptHQxmlJv"
      }
    },
    {
      "cell_type": "markdown",
      "source": [
        "We have to use differentiation to find maxima and minima"
      ],
      "metadata": {
        "id": "uZErt-sRmv7n"
      }
    },
    {
      "cell_type": "markdown",
      "source": [
        "First, find the natural log of the eqn to make it easier to differentiate"
      ],
      "metadata": {
        "id": "l0wVTO5InFrI"
      }
    },
    {
      "cell_type": "markdown",
      "source": [
        "ln(p(9, 9.5, 11; μ, σ)) = ln(1/(σ(sqrt(2pi))))-((9-μ)^2)/2σ^2 * ln(1/(σ(sqrt(2pi))))-((9.5-μ)^2)/2σ^2 * ln(1/(σ(sqrt(2pi))))-((11-μ)^2)/2σ^2\n",
        "\n"
      ],
      "metadata": {
        "id": "-cxOwvShnw1T"
      }
    },
    {
      "cell_type": "markdown",
      "source": [
        "Simplifying:"
      ],
      "metadata": {
        "id": "p-r7dowlpWVe"
      }
    },
    {
      "cell_type": "markdown",
      "source": [
        "ln(p(9, 9.5, 11; μ, σ)) = -3ln(σ) - 3/2*ln(2pi) - (1/2σ^2)*((9-μ)^2 +(9.5-μ)^2+(11-μ)^2)"
      ],
      "metadata": {
        "id": "HmToh1fLpacD"
      }
    },
    {
      "cell_type": "markdown",
      "source": [
        "The above equation can be differentiated to find the maximum"
      ],
      "metadata": {
        "id": "5lDYsQFeqUSj"
      }
    },
    {
      "cell_type": "markdown",
      "source": [
        "For instance, to find the maximum estimated mean  μ we can differentiate partially with respect to μ"
      ],
      "metadata": {
        "id": "xooEZPARqi-4"
      }
    },
    {
      "cell_type": "markdown",
      "source": [
        "d (ln(p(x; μ, σ)))/dμ = (1/σ^2)(9 + 9.5 + 11 - 3μ)"
      ],
      "metadata": {
        "id": "v22nJaikqhQH"
      }
    },
    {
      "cell_type": "markdown",
      "source": [
        "Rearranging for μ"
      ],
      "metadata": {
        "id": "FjsmkvASrzP-"
      }
    },
    {
      "cell_type": "markdown",
      "source": [
        "μ = (9 + 9.5 + 11)/ 3 = 9.833"
      ],
      "metadata": {
        "id": "jqZubnXwr5iE"
      }
    },
    {
      "cell_type": "markdown",
      "source": [
        "And there we have our maximum likelihood estimate for μ. We can do the same thing with σ too but I’ll leave that as an exercise for the keen reader."
      ],
      "metadata": {
        "id": "KFOq5oKBsShH"
      }
    },
    {
      "cell_type": "markdown",
      "source": [
        "#Now we code"
      ],
      "metadata": {
        "id": "81MHvgv9sUHH"
      }
    },
    {
      "cell_type": "markdown",
      "source": [],
      "metadata": {
        "id": "00T5e2OTsgMn"
      }
    }
  ]
}