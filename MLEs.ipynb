{
  "nbformat": 4,
  "nbformat_minor": 0,
  "metadata": {
    "colab": {
      "provenance": [],
      "authorship_tag": "ABX9TyMBntjiOnHpWKoGSByGPbkQ",
      "include_colab_link": true
    },
    "kernelspec": {
      "name": "python3",
      "display_name": "Python 3"
    },
    "language_info": {
      "name": "python"
    }
  },
  "cells": [
    {
      "cell_type": "markdown",
      "metadata": {
        "id": "view-in-github",
        "colab_type": "text"
      },
      "source": [
        "<a href=\"https://colab.research.google.com/github/Olivermugambi/MaximumLikelihoodEstimates/blob/main/MLEs.ipynb\" target=\"_parent\"><img src=\"https://colab.research.google.com/assets/colab-badge.svg\" alt=\"Open In Colab\"/></a>"
      ]
    },
    {
      "cell_type": "markdown",
      "source": [
        "#Calculating Maximum Likelihood Estimates (MLE)"
      ],
      "metadata": {
        "id": "7T7dzi3ah4lz"
      }
    },
    {
      "cell_type": "markdown",
      "source": [
        "This notebook is a session following the tutorial by Jonny Brooks-Bartlett (https://towardsdatascience.com/probability-concepts-explained-maximum-likelihood-estimation-c7b4342fdbb1#:~:text=Maximum%20likelihood%20estimation%20is%20a,data%20that%20were%20actually%20observed.)"
      ],
      "metadata": {
        "id": "jWkua6PRh8Ub"
      }
    },
    {
      "cell_type": "markdown",
      "source": [],
      "metadata": {
        "id": "XEFcms4diKhS"
      }
    },
    {
      "cell_type": "code",
      "execution_count": 1,
      "metadata": {
        "id": "tLBqEQ41htCn"
      },
      "outputs": [],
      "source": []
    }
  ]
}